{
 "cells": [
  {
   "cell_type": "code",
   "execution_count": 7,
   "metadata": {},
   "outputs": [],
   "source": []
  },
  {
   "cell_type": "code",
   "execution_count": null,
   "metadata": {},
   "outputs": [],
   "source": []
  },
  {
   "cell_type": "code",
   "execution_count": 18,
   "metadata": {},
   "outputs": [],
   "source": [
    "from collections import namedtuple\n",
    "from PIL import Image\n",
    "import os\n",
    "\n",
    "def convert_to_512_512_png(target_extension, from_path, to_path):\n",
    "  file_extension = [\"jpg\", \"jpeg\"]\n",
    "  if (target_extension not in file_extension):\n",
    "    raise Exception(\"확장자가 처리될 수 없습니다.\")\n",
    "\n",
    "  FileInfo = namedtuple('FileInfo', ['name', 'extension'])\n",
    "  files = [FileInfo(file.split(\".\"+extension)[0], extension) for file in os.listdir(from_path) for extension in file_extension if file.endswith(\".\"+extension)]\n",
    "  \n",
    "  for fileInfo in files :\n",
    "    im = Image.open(f\"{from_path}/{fileInfo.name}.{fileInfo.extension}\").convert(\"RGB\")\n",
    "    resized_im = im.resize((512,512))\n",
    "    resized_im.save(f\"{to_path}/{fileInfo.name}.png\", \"png\")\n",
    "\n",
    "if __name__ == \"__main__\" :\n",
    "  from_path = os.path.join(os.getcwd(), \"origin-image\", \"sample\")\n",
    "  to_path = os.path.join(os.getcwd(), \"converted-image\", \"sample\")\n",
    "  convert_to_512_512_png(\"jpg\", from_path, to_path)"
   ]
  },
  {
   "cell_type": "code",
   "execution_count": null,
   "metadata": {},
   "outputs": [],
   "source": []
  },
  {
   "cell_type": "code",
   "execution_count": null,
   "metadata": {},
   "outputs": [],
   "source": []
  }
 ],
 "metadata": {
  "interpreter": {
   "hash": "ad2bdc8ecc057115af97d19610ffacc2b4e99fae6737bb82f5d7fb13d2f2c186"
  },
  "kernelspec": {
   "display_name": "Python 3.9.7 ('base')",
   "language": "python",
   "name": "python3"
  },
  "language_info": {
   "codemirror_mode": {
    "name": "ipython",
    "version": 3
   },
   "file_extension": ".py",
   "mimetype": "text/x-python",
   "name": "python",
   "nbconvert_exporter": "python",
   "pygments_lexer": "ipython3",
   "version": "3.9.7"
  },
  "orig_nbformat": 4
 },
 "nbformat": 4,
 "nbformat_minor": 2
}
