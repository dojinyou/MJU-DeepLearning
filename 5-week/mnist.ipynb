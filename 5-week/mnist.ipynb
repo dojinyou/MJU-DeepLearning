{
  "cells": [
    {
      "cell_type": "code",
      "execution_count": 2,
      "metadata": {
        "id": "dEqCsbkWjzBi"
      },
      "outputs": [],
      "source": [
        "# colab 연결용\n",
        "import numpy as np\n",
        "import pandas as pd\n",
        "from sklearn import model_selection\n",
        "from sklearn.linear_model import LogisticRegression\n",
        "from sklearn import metrics\n",
        "from sklearn.datasets import fetch_openml"
      ]
    },
    {
      "cell_type": "code",
      "source": [
        "mnist = fetch_openml('mnist_784')\n",
        "x_data = mnist.data.astype('float32')\n",
        "y_data = mnist.target.astype(int)"
      ],
      "metadata": {
        "id": "4rLbKZ9zlL13"
      },
      "execution_count": 3,
      "outputs": []
    },
    {
      "cell_type": "code",
      "source": [
        "from sklearn.model_selection import train_test_split\n",
        "import torch\n",
        "\n",
        "device = \"cuda\"\n",
        "X_train, X_test, y_train, y_test = train_test_split(x_data, y_data, test_size=0.2, random_state=42)\n",
        "X_train, X_test = torch.tensor(X_train.values), torch.tensor(X_test.values)\n",
        "y_train, y_test = torch.tensor(y_train.values), torch.tensor(y_test.values)\n",
        "X_train = X_train.to(device)\n",
        "X_test = X_test.to(device)\n",
        "y_train = y_train.to(device)\n",
        "y_test = y_test.to(device)\n",
        "print(X_train.shape)\n",
        "print(X_test.shape)\n",
        "print(y_train.shape)\n",
        "print(y_test.shape)"
      ],
      "metadata": {
        "id": "8P7nj2WnlMHN",
        "outputId": "823e38e5-96fa-43fc-b4f1-c12f79081f1c",
        "colab": {
          "base_uri": "https://localhost:8080/"
        }
      },
      "execution_count": 4,
      "outputs": [
        {
          "output_type": "stream",
          "name": "stdout",
          "text": [
            "torch.Size([56000, 784])\n",
            "torch.Size([14000, 784])\n",
            "torch.Size([56000])\n",
            "torch.Size([14000])\n"
          ]
        }
      ]
    },
    {
      "cell_type": "code",
      "source": [
        "import torch.nn.functional as F\n",
        "from torch import nn"
      ],
      "metadata": {
        "id": "i_qdxnIql4kJ"
      },
      "execution_count": 5,
      "outputs": []
    },
    {
      "cell_type": "code",
      "source": [
        "# Feedforward Model\n",
        "class MLP(torch.nn.Module):\n",
        "  def __init__(self):\n",
        "    super(MLP, self).__init__()\n",
        "    self.linear_relu_stack = nn.Sequential(\n",
        "        nn.Linear(28*28, 512),\n",
        "        nn.ReLU(),\n",
        "        nn.Linear(512,512),\n",
        "        nn.ReLU(),\n",
        "        nn.Linear(512, 10),\n",
        "    )\n",
        "  def forward(self, x):\n",
        "    outputs = self.linear_relu_stack(x)\n",
        "    return outputs"
      ],
      "metadata": {
        "id": "xj4qTXsBlOGt"
      },
      "execution_count": 10,
      "outputs": []
    },
    {
      "cell_type": "code",
      "source": [
        "lr = 0.001\n",
        "epochs = 2000\n",
        "model = MLP().to(device)\n",
        "criterion = nn.CrossEntropyLoss()\n",
        "optimizer = torch.optim.SGD(model.parameters(), lr=lr)"
      ],
      "metadata": {
        "id": "SLssKZyBmdRX"
      },
      "execution_count": 13,
      "outputs": []
    },
    {
      "cell_type": "code",
      "source": [
        "loss_save_arr=[]\n",
        "for i in range(epochs):\n",
        "  # Train\n",
        "  model.train()\n",
        "  optimizer.zero_grad()\n",
        "  output = model(X_train)\n",
        "  loss = criterion(output, y_train.long())\n",
        "\n",
        "  loss.backward()\n",
        "  optimizer.step()\n",
        "  loss_save_arr.append(loss.data)\n",
        "\n",
        "  if (i%100 == 0):\n",
        "    print(\"=====\")\n",
        "    print(\"epoch \", i)\n",
        "    print(\"loss \", loss.data)\n",
        "    _, pred = torch.max(output.data, axis=1)\n",
        "    print(\"train_accuracy : {:0.3f}\".format(float((pred==y_train).sum())/y_train.size(0)))\n",
        "    model.eval()\n",
        "    with torch.no_grad():\n",
        "      output = model(X_test)\n",
        "      _, pred = torch.max(output.data, axis=1)\n",
        "      print(\"test_accuracy : {:0.3f}\".format(float((pred==y_test).sum())/y_test.size(0)))"
      ],
      "metadata": {
        "id": "bjFh-PIr1ssN",
        "outputId": "a7841fe8-209d-4586-e98b-5cf2dc07e2a9",
        "colab": {
          "base_uri": "https://localhost:8080/"
        }
      },
      "execution_count": 14,
      "outputs": [
        {
          "output_type": "stream",
          "name": "stdout",
          "text": [
            "=====\n",
            "epoch  0\n",
            "loss  tensor(9.9618, device='cuda:0')\n",
            "train_accuracy : 0.102\n",
            "test_accuracy : 0.240\n",
            "=====\n",
            "epoch  100\n",
            "loss  tensor(0.4131, device='cuda:0')\n",
            "train_accuracy : 0.886\n",
            "test_accuracy : 0.884\n",
            "=====\n",
            "epoch  200\n",
            "loss  tensor(0.2963, device='cuda:0')\n",
            "train_accuracy : 0.916\n",
            "test_accuracy : 0.908\n",
            "=====\n",
            "epoch  300\n",
            "loss  tensor(0.2398, device='cuda:0')\n",
            "train_accuracy : 0.932\n",
            "test_accuracy : 0.919\n",
            "=====\n",
            "epoch  400\n",
            "loss  tensor(0.2044, device='cuda:0')\n",
            "train_accuracy : 0.941\n",
            "test_accuracy : 0.926\n",
            "=====\n",
            "epoch  500\n",
            "loss  tensor(0.1792, device='cuda:0')\n",
            "train_accuracy : 0.948\n",
            "test_accuracy : 0.931\n",
            "=====\n",
            "epoch  600\n",
            "loss  tensor(0.1601, device='cuda:0')\n",
            "train_accuracy : 0.953\n",
            "test_accuracy : 0.935\n",
            "=====\n",
            "epoch  700\n",
            "loss  tensor(0.1448, device='cuda:0')\n",
            "train_accuracy : 0.958\n",
            "test_accuracy : 0.938\n",
            "=====\n",
            "epoch  800\n",
            "loss  tensor(0.1323, device='cuda:0')\n",
            "train_accuracy : 0.962\n",
            "test_accuracy : 0.942\n",
            "=====\n",
            "epoch  900\n",
            "loss  tensor(0.1217, device='cuda:0')\n",
            "train_accuracy : 0.965\n",
            "test_accuracy : 0.943\n",
            "=====\n",
            "epoch  1000\n",
            "loss  tensor(0.1127, device='cuda:0')\n",
            "train_accuracy : 0.968\n",
            "test_accuracy : 0.945\n",
            "=====\n",
            "epoch  1100\n",
            "loss  tensor(0.1048, device='cuda:0')\n",
            "train_accuracy : 0.970\n",
            "test_accuracy : 0.946\n",
            "=====\n",
            "epoch  1200\n",
            "loss  tensor(0.0979, device='cuda:0')\n",
            "train_accuracy : 0.973\n",
            "test_accuracy : 0.948\n",
            "=====\n",
            "epoch  1300\n",
            "loss  tensor(0.0917, device='cuda:0')\n",
            "train_accuracy : 0.975\n",
            "test_accuracy : 0.949\n",
            "=====\n",
            "epoch  1400\n",
            "loss  tensor(0.0862, device='cuda:0')\n",
            "train_accuracy : 0.977\n",
            "test_accuracy : 0.950\n",
            "=====\n",
            "epoch  1500\n",
            "loss  tensor(0.0812, device='cuda:0')\n",
            "train_accuracy : 0.978\n",
            "test_accuracy : 0.951\n",
            "=====\n",
            "epoch  1600\n",
            "loss  tensor(0.0767, device='cuda:0')\n",
            "train_accuracy : 0.979\n",
            "test_accuracy : 0.952\n",
            "=====\n",
            "epoch  1700\n",
            "loss  tensor(0.0725, device='cuda:0')\n",
            "train_accuracy : 0.981\n",
            "test_accuracy : 0.952\n",
            "=====\n",
            "epoch  1800\n",
            "loss  tensor(0.0687, device='cuda:0')\n",
            "train_accuracy : 0.982\n",
            "test_accuracy : 0.953\n",
            "=====\n",
            "epoch  1900\n",
            "loss  tensor(0.0653, device='cuda:0')\n",
            "train_accuracy : 0.983\n",
            "test_accuracy : 0.954\n"
          ]
        }
      ]
    },
    {
      "cell_type": "code",
      "source": [
        "import sys\n",
        "def getResult(prediction):\n",
        "  max_index = 0\n",
        "  max_predict = -1*sys.maxsize\n",
        "  for i,predict in enumerate(prediction):\n",
        "    if max_predict < predict:\n",
        "      max_index = i\n",
        "      max_predict = predict\n",
        "  return max_index"
      ],
      "metadata": {
        "id": "L12xQ2Eu6sfJ"
      },
      "execution_count": 44,
      "outputs": []
    },
    {
      "cell_type": "code",
      "source": [
        "prediction = model(X_train[0,:])\n",
        "answer = y_train[0].cpu()\n",
        "print(getResult(prediction))\n",
        "print(answer)"
      ],
      "metadata": {
        "id": "zMVfWiu87kmD",
        "outputId": "7655cc44-d754-456d-bda8-bd0dcd7696d9",
        "colab": {
          "base_uri": "https://localhost:8080/"
        }
      },
      "execution_count": 49,
      "outputs": [
        {
          "output_type": "stream",
          "name": "stdout",
          "text": [
            "5\n",
            "tensor(5)\n"
          ]
        }
      ]
    },
    {
      "cell_type": "code",
      "source": [
        "from matplotlib import pyplot as plt\n",
        "sample_input = X_train[0].reshape(28,28).cpu()\n",
        "# sample_input\n",
        "plt.imshow(sample_input)\n",
        "plt.show()"
      ],
      "metadata": {
        "id": "Rsqa7nQz30CY",
        "outputId": "ea867287-7fb1-4dca-f04e-62435f934b9a",
        "colab": {
          "base_uri": "https://localhost:8080/",
          "height": 264
        }
      },
      "execution_count": 50,
      "outputs": [
        {
          "output_type": "display_data",
          "data": {
            "text/plain": [
              "<Figure size 432x288 with 1 Axes>"
            ],
            "image/png": "[encoded data removed]"
          },
          "metadata": {
            "needs_background": "light"
          }
        }
      ]
    },
    {
      "cell_type": "code",
      "source": [
        ""
      ],
      "metadata": {
        "id": "pJz1sEiR7pKz"
      },
      "execution_count": null,
      "outputs": []
    }
  ],
  "metadata": {
    "interpreter": {
      "hash": "b3ba2566441a7c06988d0923437866b63cedc61552a5af99d1f4fb67d367b25f"
    },
    "kernelspec": {
      "display_name": "Python 3.9.7 ('base')",
      "language": "python",
      "name": "python3"
    },
    "language_info": {
      "name": "python",
      "version": "3.9.7"
    },
    "orig_nbformat": 4,
    "colab": {
      "name": "mnist.ipynb",
      "provenance": []
    },
    "accelerator": "GPU"
  },
  "nbformat": 4,
  "nbformat_minor": 0
}